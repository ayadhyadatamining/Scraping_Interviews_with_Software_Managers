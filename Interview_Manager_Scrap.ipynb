{
 "cells": [
  {
   "cell_type": "markdown",
   "id": "fb9380e1",
   "metadata": {},
   "source": [
    "#  Scrape the following static website to extract the given data:"
   ]
  },
  {
   "cell_type": "code",
   "execution_count": 4,
   "id": "54849327",
   "metadata": {},
   "outputs": [],
   "source": [
    "import pandas as pd\n",
    "from tqdm import tqdm\n",
    "from selenium import webdriver\n",
    "from bs4 import BeautifulSoup\n",
    "import requests"
   ]
  },
  {
   "cell_type": "code",
   "execution_count": 5,
   "id": "f437916d",
   "metadata": {},
   "outputs": [],
   "source": [
    "url = 'https://devtomanager.com/interviews/'"
   ]
  },
  {
   "cell_type": "code",
   "execution_count": 6,
   "id": "3402db63",
   "metadata": {},
   "outputs": [
    {
     "data": {
      "text/plain": [
       "'<!DOCTYPE html>\\n<html lang=\"en-US\">\\n    <head>\\n        <title>\\nInterviews with Software Managers | Developer to Manager\\n</title>\\n\\n        <meta charset=\"utf-8\">\\n        <meta name=\"viewport\" content=\"width=device-width, initial-scale=1.0, shrink-to-fit=no\">\\n\\n        <meta name=\"author\" content=\"Siddhant Goel\">\\n        <meta name=\"keywords\" content=\"career, development, engineering-management, knowledge, leadership, management, platform, software\">\\n\\n        \\n<meta name=\"description\" content=\"At Developer to Manager, we regularly interview software engineering managers on how they approach management and leadership.\">\\n\\n\\n        \\n<meta name=\"twitter:card\" content=\"summary\">\\n<meta name=\"twitter:title\" content=\"Interviews with Software Managers | Developer to Manager\">\\n<meta name=\"twitter:description\" content=\"About transitioning from development to management\">\\n<meta name=\"twitter:site\" content=\"@devtomanager\">\\n<meta name=\"twitter:image\" content=\"https://devtomanager.com/static/images/logo-wide.png\"/>\\n\\n\\n        <meta property=\"og:url\" content=\"https://devtomanager.com/interviews/page/1/\"/>\\n        \\n<meta property=\"og:title\" content=\"Interviews with Software Managers | Developer to Manager\"/>\\n<meta property=\"og:description\" content=\"About transitioning from development to management\"/>\\n<meta property=\"og:image\" content=\"https://devtomanager.com/static/images/logo-wide.png\"/>\\n\\n\\n        \\n        <link rel=\"canonical\" href=\"https://devtomanager.com/interviews/page/1/\">\\n        \\n\\n        <link rel=\"apple-touch-icon\" sizes=\"180x180\"\\n              href=\"/static/images/apple-touch-icon.png\">\\n        <link rel=\"icon\" type=\"image/png\" sizes=\"32x32\"\\n              href=\"/static/images/favicon-32x32.png\">\\n        <link rel=\"icon\" type=\"image/png\" sizes=\"16x16\"\\n              href=\"/static/images/favicon-16x16.png\">\\n        <link rel=\"manifest\" href=\"/static/images/site.webmanifest\">\\n        <link rel=\"shortcut icon\" type=\"image/x-icon\"\\n              href=\"/static/images/favicon.ico\">\\n\\n        <link rel=\"me\" href=\"https://twitter.com/devtomanager\">\\n        <link rel=\"alternate\" type=\"application/atom+xml\"\\n              href=\"/interviews/atom.xml\">\\n\\n        <link rel=\"stylesheet\" type=\"text/css\"\\n              href=\"/static/css/app.css\">\\n    </head>\\n    <body class=\"bg-light\">\\n        <div class=\"container\">\\n    <div class=\"row\">\\n        <div class=\"col border-bottom\">\\n            <nav class=\"navbar navbar-light navbar-expand-lg\" role=\"navigation\">\\n                <a class=\"navbar-brand\" href=\"/\">\\n                    <img src=\"/static/images/logo.png\"\\n                         alt=\"Developer to Manager\"\\n                         width=\"64\" height=\"64\">\\n                </a>\\n\\n                <button class=\"navbar-toggler\"\\n                        type=\"button\"\\n                        data-toggle=\"collapse\"\\n                        data-target=\"#navbar-menu\"\\n                        aria-controls=\"#navbar-menu\"\\n                        aria-expanded=\"false\"\\n                        aria-label=\"Toggle navigation\">\\n                    <span class=\"navbar-toggler-icon\"></span>\\n                </button>\\n\\n                <div class=\"collapse navbar-collapse\" id=\"navbar-menu\">\\n                    <span class=\"navbar-text\">\\n                        <a href=\"/\">\\n                            <span class=\"h4\">Developer to Manager</span>\\n                        </a>\\n                    </span>\\n\\n                    <ul class=\"navbar-nav ml-auto\">\\n                        <li class=\"nav-item\">\\n                            <a class=\"nav-link\" href=\"/interviews/\">\\n                                All Interviews 🎙️\\n                            </a>\\n                        </li>\\n\\n                        <li class=\"nav-item\">\\n                            <a class=\"nav-link\" href=\"/blog/\">\\n                                Blog 📑\\n                            </a>\\n                        </li>\\n\\n                        <li class=\"nav-item\">\\n                            <a class=\"nav-link\" href=\"https://liberapay.com/devtomanager/donate\" target=\"_blank\">\\n                                Support us! 🙏\\n                            </a>\\n                        </li>\\n\\n                        <li class=\"nav-item dropdown\">\\n                            <a class=\"nav-link dropdown-toggle\"\\n                               href=\"#\"\\n                               data-toggle=\"dropdown\"\\n                               role=\"button\"\\n                               aria-haspopup=\"true\"\\n                               aria-expanded=\"false\">\\n                                More\\n                            </a>\\n\\n                            <div class=\"dropdown-menu dropdown-menu-right\">\\n                                <a class=\"dropdown-item\" href=\"/about/\">\\n                                    About\\n                                </a>\\n                                <a class=\"dropdown-item\" href=\"mailto:hello@devtomanager.com?subject=Hello!\">\\n                                    Contact\\n                                </a>\\n                                <a class=\"dropdown-item\" href=\"/impressum/\">\\n                                    Impressum\\n                                </a>\\n                            </div>\\n                        </li>\\n                    </ul>\\n                </div>\\n            </nav>\\n        </div>\\n    </div>\\n</div>\\n\\n        <div class=\"container\">\\n            <div class=\"row mb-3\">\\n                <div class=\"col-sm-12 col-lg-8 offset-lg-2\">\\n                    \\n<div class=\"row mt-5\">\\n    <div class=\"col\">\\n        <p class=\"text-right\">\\n    <a href=\"https://devtomanager.typeform.com/to/uHf6jo\"\\n       target=\"_blank\"\\n       class=\"text-reset font-weight-bold\">\\n        Submit your interview\\n        <i class=\"icon-add-circle-outline mr-1\"></i>\\n    </a>\\n</p>\\n    </div>\\n</div>\\n\\n<div class=\"row mt-3\">\\n    <div class=\"col\">\\n        <h1 class=\"text-center\">Interviews with Software Managers</h1>\\n        <h4 class=\"text-center\">About transitioning from development to management</h4>\\n    </div>\\n</div>\\n\\n<div class=\"row mt-5\">\\n    <div class=\"col text-center\">\\n        \\n<span class=\"mr-2\">\\n    <a class=\"text-reset\" href=\"/interviews/tag/coaching/\">\\n        #coaching\\n    </a>\\n</span>\\n\\n<span class=\"mr-2\">\\n    <a class=\"text-reset\" href=\"/interviews/tag/frontend/\">\\n        #frontend\\n    </a>\\n</span>\\n\\n<span class=\"mr-2\">\\n    <a class=\"text-reset\" href=\"/interviews/tag/product/\">\\n        #product\\n    </a>\\n</span>\\n\\n<span class=\"mr-2\">\\n    <a class=\"text-reset\" href=\"/interviews/tag/self-taught/\">\\n        #self-taught\\n    </a>\\n</span>\\n\\n<span class=\"mr-2\">\\n    <a class=\"text-reset\" href=\"/interviews/tag/startup/\">\\n        #startup\\n    </a>\\n</span>\\n\\n<span class=\"mr-2\">\\n    <a class=\"text-reset\" href=\"/interviews/tag/web/\">\\n        #web\\n    </a>\\n</span>\\n\\n    </div>\\n</div>\\n\\n\\n<div class=\"row mt-5\">\\n    <div class=\"col\">\\n        <div class=\"card bg-light border-0\">\\n    <div class=\"row no-gutters\">\\n        <div class=\"col-md-4 text-center\">\\n            <a href=\"/interviews/aviv-ben-yosef/\">\\n                <figure class=\"figure\">\\n                    <img src=\"/static/images/interviews/aviv-ben-yosef.png\"\\n                         class=\"figure-img img-fluid img-thumbnail rounded-circle\"\\n                         alt=\"Aviv Ben-Yosef, Tech Executive Consultant\"\\n                         width=\"200\" height=\"200\">\\n                </figure>\\n            </a>\\n        </div>\\n        <div class=\"col-md-8\">\\n            <div class=\"card-body\">\\n                <h5 class=\"card-title\">\\n                    <a href=\"/interviews/aviv-ben-yosef/\"\\n                       class=\"text-reset\">\\n                        Aviv Ben-Yosef, Tech Executive Consultant\\n                    </a>\\n                </h5>\\n                <p class=\"card-text\">\\n                “I want to set up managers to succeed, no matter how much background they’ve already got.”\\n                </p>\\n                <p class=\"card-text\">\\n                    August 16, 2021\\n                    ·\\n                    \\n                    <strong class=\"mr-2\">\\n                        <a class=\"text-reset\" href=\"/interviews/tag/coaching/\">\\n                            #coaching\\n                        </a>\\n                    </strong>\\n                    \\n                    <strong class=\"mr-2\">\\n                        <a class=\"text-reset\" href=\"/interviews/tag/consulting/\">\\n                            #consulting\\n                        </a>\\n                    </strong>\\n                    \\n                </p>\\n            </div>\\n        </div>\\n    </div>\\n</div>\\n    </div>\\n</div>\\n\\n<div class=\"row mt-5\">\\n    <div class=\"col\">\\n        <div class=\"card bg-light border-0\">\\n    <div class=\"row no-gutters\">\\n        <div class=\"col-md-4 text-center\">\\n            <a href=\"/interviews/anand-safi/\">\\n                <figure class=\"figure\">\\n                    <img src=\"/static/images/interviews/anand-safi.png\"\\n                         class=\"figure-img img-fluid img-thumbnail rounded-circle\"\\n                         alt=\"Anand Safi, Engineering Manager at Mark43\"\\n                         width=\"200\" height=\"200\">\\n                </figure>\\n            </a>\\n        </div>\\n        <div class=\"col-md-8\">\\n            <div class=\"card-body\">\\n                <h5 class=\"card-title\">\\n                    <a href=\"/interviews/anand-safi/\"\\n                       class=\"text-reset\">\\n                        Anand Safi, Engineering Manager at Mark43\\n                    </a>\\n                </h5>\\n                <p class=\"card-text\">\\n                “I very well understand where my interests lie, which is being an enabler first and then a creator rather than being a creator/ maker 100%.”\\n                </p>\\n                <p class=\"card-text\">\\n                    July 19, 2021\\n                    ·\\n                    \\n                    <strong class=\"mr-2\">\\n                        <a class=\"text-reset\" href=\"/interviews/tag/coaching/\">\\n                            #coaching\\n                        </a>\\n                    </strong>\\n                    \\n                    <strong class=\"mr-2\">\\n                        <a class=\"text-reset\" href=\"/interviews/tag/frontend/\">\\n                            #frontend\\n                        </a>\\n                    </strong>\\n                    \\n                    <strong class=\"mr-2\">\\n                        <a class=\"text-reset\" href=\"/interviews/tag/full-stack/\">\\n                            #full-stack\\n                        </a>\\n                    </strong>\\n                    \\n                    <strong class=\"mr-2\">\\n                        <a class=\"text-reset\" href=\"/interviews/tag/public-safety/\">\\n                            #public-safety\\n                        </a>\\n                    </strong>\\n                    \\n                </p>\\n            </div>\\n        </div>\\n    </div>\\n</div>\\n    </div>\\n</div>\\n\\n<div class=\"row mt-5\">\\n    <div class=\"col\">\\n        <div class=\"card bg-light border-0\">\\n    <div class=\"row no-gutters\">\\n        <div class=\"col-md-4 text-center\">\\n            <a href=\"/interviews/shawn-axsom/\">\\n                <figure class=\"figure\">\\n                    <img src=\"/static/images/interviews/shawn-axsom.png\"\\n                         class=\"figure-img img-fluid img-thumbnail rounded-circle\"\\n                         alt=\"Shawn Axsom, Senior Engineering Manager at Docker\"\\n                         width=\"200\" height=\"200\">\\n                </figure>\\n            </a>\\n        </div>\\n        <div class=\"col-md-8\">\\n            <div class=\"card-body\">\\n                <h5 class=\"card-title\">\\n                    <a href=\"/interviews/shawn-axsom/\"\\n                       class=\"text-reset\">\\n                        Shawn Axsom, Senior Engineering Manager at Docker\\n                    </a>\\n                </h5>\\n                <p class=\"card-text\">\\n                “Your focus (and challenges) grows from your direct reports, to teams, to departments, executives, and then external customers and partnerships.”\\n                </p>\\n                <p class=\"card-text\">\\n                    July 05, 2021\\n                    ·\\n                    \\n                    <strong class=\"mr-2\">\\n                        <a class=\"text-reset\" href=\"/interviews/tag/backend/\">\\n                            #backend\\n                        </a>\\n                    </strong>\\n                    \\n                    <strong class=\"mr-2\">\\n                        <a class=\"text-reset\" href=\"/interviews/tag/coaching/\">\\n                            #coaching\\n                        </a>\\n                    </strong>\\n                    \\n                    <strong class=\"mr-2\">\\n                        <a class=\"text-reset\" href=\"/interviews/tag/information-systems/\">\\n                            #information-systems\\n                        </a>\\n                    </strong>\\n                    \\n                    <strong class=\"mr-2\">\\n                        <a class=\"text-reset\" href=\"/interviews/tag/web/\">\\n                            #web\\n                        </a>\\n                    </strong>\\n                    \\n                </p>\\n            </div>\\n        </div>\\n    </div>\\n</div>\\n    </div>\\n</div>\\n\\n<div class=\"row mt-5\">\\n    <div class=\"col\">\\n        <div class=\"card bg-light border-0\">\\n    <div class=\"row no-gutters\">\\n        <div class=\"col-md-4 text-center\">\\n            <a href=\"/interviews/kevin-doyle/\">\\n                <figure class=\"figure\">\\n                    <img src=\"/static/images/interviews/kevin-doyle.png\"\\n                         class=\"figure-img img-fluid img-thumbnail rounded-circle\"\\n                         alt=\"Kevin Doyle, CTO at patientMpower\"\\n                         width=\"200\" height=\"200\">\\n                </figure>\\n            </a>\\n        </div>\\n        <div class=\"col-md-8\">\\n            <div class=\"card-body\">\\n                <h5 class=\"card-title\">\\n                    <a href=\"/interviews/kevin-doyle/\"\\n                       class=\"text-reset\">\\n                        Kevin Doyle, CTO at patientMpower\\n                    </a>\\n                </h5>\\n                <p class=\"card-text\">\\n                “If I can provide enough direction to allow people to focus on the jobs they’ll do better than I ever could, everybody wins.”\\n                </p>\\n                <p class=\"card-text\">\\n                    June 21, 2021\\n                    ·\\n                    \\n                    <strong class=\"mr-2\">\\n                        <a class=\"text-reset\" href=\"/interviews/tag/full-stack/\">\\n                            #full-stack\\n                        </a>\\n                    </strong>\\n                    \\n                    <strong class=\"mr-2\">\\n                        <a class=\"text-reset\" href=\"/interviews/tag/health-tech/\">\\n                            #health-tech\\n                        </a>\\n                    </strong>\\n                    \\n                </p>\\n            </div>\\n        </div>\\n    </div>\\n</div>\\n    </div>\\n</div>\\n\\n<div class=\"row mt-5\">\\n    <div class=\"col\">\\n        <div class=\"card bg-light border-0\">\\n    <div class=\"row no-gutters\">\\n        <div class=\"col-md-4 text-center\">\\n            <a href=\"/interviews/arnab-sen/\">\\n                <figure class=\"figure\">\\n                    <img src=\"/static/images/interviews/arnab-sen.png\"\\n                         class=\"figure-img img-fluid img-thumbnail rounded-circle\"\\n                         alt=\"Arnab Sen, Technical Delivery Manager at AKQA\"\\n                         width=\"200\" height=\"200\">\\n                </figure>\\n            </a>\\n        </div>\\n        <div class=\"col-md-8\">\\n            <div class=\"card-body\">\\n                <h5 class=\"card-title\">\\n                    <a href=\"/interviews/arnab-sen/\"\\n                       class=\"text-reset\">\\n                        Arnab Sen, Technical Delivery Manager at AKQA\\n                    </a>\\n                </h5>\\n                <p class=\"card-text\">\\n                “The switch to management can be highly rewarding and provide a level of independence, authority, and interactivity that a pure software engineering role may not offer.”\\n                </p>\\n                <p class=\"card-text\">\\n                    May 10, 2021\\n                    ·\\n                    \\n                    <strong class=\"mr-2\">\\n                        <a class=\"text-reset\" href=\"/interviews/tag/consulting/\">\\n                            #consulting\\n                        </a>\\n                    </strong>\\n                    \\n                    <strong class=\"mr-2\">\\n                        <a class=\"text-reset\" href=\"/interviews/tag/digital-marketing/\">\\n                            #digital-marketing\\n                        </a>\\n                    </strong>\\n                    \\n                    <strong class=\"mr-2\">\\n                        <a class=\"text-reset\" href=\"/interviews/tag/e-commerce/\">\\n                            #e-commerce\\n                        </a>\\n                    </strong>\\n                    \\n                    <strong class=\"mr-2\">\\n                        <a class=\"text-reset\" href=\"/interviews/tag/product/\">\\n                            #product\\n                        </a>\\n                    </strong>\\n                    \\n                </p>\\n            </div>\\n        </div>\\n    </div>\\n</div>\\n    </div>\\n</div>\\n\\n\\n<div class=\"row mt-5\">\\n    <div class=\"col text-left\">\\n        \\n    </div>\\n\\n    <div class=\"col text-right\">\\n        \\n        <a href=\"/interviews/page/2/\" class=\"text-reset font-weight-bold\">\\n            Older\\n            <i class=\"icon-arrow-forward-circle-outline\"></i>\\n        </a>\\n        \\n    </div>\\n</div>\\n\\n<div class=\"row mt-5\">\\n    <div class=\"col\">\\n        <div class=\"row text-center\">\\n    <div class=\"container\">\\n        <div class=\"row\">\\n            <div class=\"col\">\\n                Join <mark>thousands</mark> of other subscribers receiving updates\\n                <mark>every 2 weeks</mark>!\\n            </div>\\n        </div>\\n\\n        <div class=\"row\">\\n            <div class=\"col-6 offset-3\">\\n                <div class=\"emailoctopus-form-wrapper emailoctopus-form-default null\">\\n                    <form action=\"https://emailoctopus.com/lists/f17f7f51-575e-11eb-a3d0-06b4694bee2a/members/embedded/1.3s/add\"\\n                          method=\"post\"\\n                          data-message-success=\"Thanks for subscribing!\"\\n                          data-message-missing-email-address=\"Your email address is required.\"\\n                          data-message-invalid-email-address=\"Your email address looks incorrect, please try again.\"\\n                          data-message-bot-submission-error=\"This doesn\\'t look like a human submission.\"\\n                          data-message-consent-required=\"Please check the checkbox to indicate your consent.\"\\n                          data-message-invalid-parameters-error=\"This form has missing or invalid fields.\"\\n                          data-message-unknown-error=\"Sorry, an unknown error has occurred. Please try again later.\"\\n                          data-sitekey=\"6LdYsmsUAAAAAPXVTt-ovRsPIJ_IVhvYBBhGvRV6\"\\n                          class=\"emailoctopus-form form\">\\n\\n                        <p class=\"emailoctopus-success-message\"></p>\\n                        <p class=\"emailoctopus-error-message\"></p>\\n\\n                        <input type=\"hidden\"\\n                               name=\"successRedirectUrl\"\\n                               value=\"https://devtomanager.com/thank-you/\">\\n\\n                        <div class=\"input-group mb-2\">\\n                            <div class=\"input-group-prepend\">\\n                                <div class=\"input-group-text\">\\n                                    <i class=\"icon-mail\"></i>\\n                                </div>\\n                            </div>\\n\\n                            <input id=\"field_0\"\\n                                   class=\"form-control\"\\n                                   name=\"field_0\"\\n                                   type=\"email\"\\n                                   placeholder=\"email@example.com\"\\n                                   required>\\n\\n                            <div class=\"input-group-append\">\\n                                <button class=\"btn btn btn-dark\" type=\"submit\">\\n                                    Join!\\n                                </button>\\n                            </div>\\n                        </div>\\n\\n                        <div class=\"emailoctopus-form-row-consent custom-control custom-switch\">\\n                            <input type=\"checkbox\"\\n                                   class=\"custom-control-input\"\\n                                   id=\"consent\"\\n                                   name=\"consent\"\\n                                   required>\\n                            <label for=\"consent\" class=\"custom-control-label\">\\n                                Yes, sign me up!\\n                            </label>\\n                        </div>\\n\\n                        <div class=\"emailoctopus-form-row-hp d-none\" aria-hidden=\"true\">\\n                            <input type=\"text\"\\n                                   name=\"hpc4b27b6e-eb38-11e9-be00-06b4694bee2a\"\\n                                   tabindex=\"-1\"\\n                                   autocomplete=\"nope\">\\n                        </div>\\n                    </form>\\n                </div>\\n            </div>\\n        </div>\\n    </div>\\n</div>\\n    </div>\\n</div>\\n\\n                </div>\\n            </div>\\n        </div>\\n\\n        <div class=\"container border-top\">\\n    <div class=\"row mt-3 mb-3\">\\n        <div class=\"col\">\\n            © Developer to Manager 2018 - 2021\\n\\n            <a class=\"btn\"\\n               href=\"https://twitter.com/devtomanager\"\\n               target=\"_blank\">\\n                <i class=\"icon-logo-twitter\"></i>\\n            </a>\\n\\n            <a class=\"btn\"\\n               href=\"https://www.linkedin.com/company/developer-to-manager\"\\n               target=\"_blank\">\\n                <i class=\"icon-logo-linkedin\"></i>\\n            </a>\\n        </div>\\n\\n        <div class=\"col text-right\">\\n            <span>Crafted with ♥️ in Munich</span>\\n        </div>\\n    </div>\\n</div>\\n\\n        \\n        <script async data-domain=\"devtomanager.com\" src=\"https://plausible.io/js/plausible.js\">\\n        </script>\\n        \\n\\n        <script async src=\"/static/js/app.js\"></script>\\n\\n        <script async src=\"https://emailoctopus.com/bundles/emailoctopuslist/js/1.6/form-recaptcha.js\"></script>\\n        <script async src=\"https://emailoctopus.com/bundles/emailoctopuslist/js/1.6/form-embed.js\"></script>\\n    </body>\\n</html>'"
      ]
     },
     "execution_count": 6,
     "metadata": {},
     "output_type": "execute_result"
    }
   ],
   "source": [
    "html_good=requests.get(url).text\n",
    "html_good"
   ]
  },
  {
   "cell_type": "code",
   "execution_count": 7,
   "id": "710b7b4d",
   "metadata": {},
   "outputs": [
    {
     "data": {
      "text/plain": [
       "str"
      ]
     },
     "execution_count": 7,
     "metadata": {},
     "output_type": "execute_result"
    }
   ],
   "source": [
    "type(html_good)"
   ]
  },
  {
   "cell_type": "code",
   "execution_count": 8,
   "id": "0abd3d1e",
   "metadata": {},
   "outputs": [
    {
     "name": "stdout",
     "output_type": "stream",
     "text": [
      "<!DOCTYPE html>\n",
      "\n",
      "<html lang=\"en-US\">\n",
      "<head>\n",
      "<title>\n",
      "Interviews with Software Managers | Developer to Manager\n",
      "</title>\n",
      "<meta charset=\"utf-8\"/>\n",
      "<meta content=\"width=device-width, initial-scale=1.0, shrink-to-fit=no\" name=\"viewport\"/>\n",
      "<meta content=\"Siddhant Goel\" name=\"author\"/>\n",
      "<meta content=\"career, development, engineering-management, knowledge, leadership, management, platform, software\" name=\"keywords\"/>\n",
      "<meta content=\"At Developer to Manager, we regularly interview software engineering managers on how they approach management and leadership.\" name=\"description\"/>\n",
      "<meta content=\"summary\" name=\"twitter:card\"/>\n",
      "<meta content=\"Interviews with Software Managers | Developer to Manager\" name=\"twitter:title\"/>\n",
      "<meta content=\"About transitioning from development to management\" name=\"twitter:description\"/>\n",
      "<meta content=\"@devtomanager\" name=\"twitter:site\"/>\n",
      "<meta content=\"https://devtomanager.com/static/images/logo-wide.png\" name=\"twitter:image\">\n",
      "<meta content=\"https://devtomanager.com/interviews/page/1/\" property=\"og:url\">\n",
      "<meta content=\"Interviews with Software Managers | Developer to Manager\" property=\"og:title\">\n",
      "<meta content=\"About transitioning from development to management\" property=\"og:description\">\n",
      "<meta content=\"https://devtomanager.com/static/images/logo-wide.png\" property=\"og:image\">\n",
      "<link href=\"https://devtomanager.com/interviews/page/1/\" rel=\"canonical\"/>\n",
      "<link href=\"/static/images/apple-touch-icon.png\" rel=\"apple-touch-icon\" sizes=\"180x180\"/>\n",
      "<link href=\"/static/images/favicon-32x32.png\" rel=\"icon\" sizes=\"32x32\" type=\"image/png\"/>\n",
      "<link href=\"/static/images/favicon-16x16.png\" rel=\"icon\" sizes=\"16x16\" type=\"image/png\"/>\n",
      "<link href=\"/static/images/site.webmanifest\" rel=\"manifest\"/>\n",
      "<link href=\"/static/images/favicon.ico\" rel=\"shortcut icon\" type=\"image/x-icon\"/>\n",
      "<link href=\"https://twitter.com/devtomanager\" rel=\"me\"/>\n",
      "<link href=\"/interviews/atom.xml\" rel=\"alternate\" type=\"application/atom+xml\"/>\n",
      "<link href=\"/static/css/app.css\" rel=\"stylesheet\" type=\"text/css\"/>\n",
      "</meta></meta></meta></meta></meta></head>\n",
      "<body class=\"bg-light\">\n",
      "<div class=\"container\">\n",
      "<div class=\"row\">\n",
      "<div class=\"col border-bottom\">\n",
      "<nav class=\"navbar navbar-light navbar-expand-lg\" role=\"navigation\">\n",
      "<a class=\"navbar-brand\" href=\"/\">\n",
      "<img alt=\"Developer to Manager\" height=\"64\" src=\"/static/images/logo.png\" width=\"64\"/>\n",
      "</a>\n",
      "<button aria-controls=\"#navbar-menu\" aria-expanded=\"false\" aria-label=\"Toggle navigation\" class=\"navbar-toggler\" data-target=\"#navbar-menu\" data-toggle=\"collapse\" type=\"button\">\n",
      "<span class=\"navbar-toggler-icon\"></span>\n",
      "</button>\n",
      "<div class=\"collapse navbar-collapse\" id=\"navbar-menu\">\n",
      "<span class=\"navbar-text\">\n",
      "<a href=\"/\">\n",
      "<span class=\"h4\">Developer to Manager</span>\n",
      "</a>\n",
      "</span>\n",
      "<ul class=\"navbar-nav ml-auto\">\n",
      "<li class=\"nav-item\">\n",
      "<a class=\"nav-link\" href=\"/interviews/\">\n",
      "                                All Interviews 🎙️\n",
      "                            </a>\n",
      "</li>\n",
      "<li class=\"nav-item\">\n",
      "<a class=\"nav-link\" href=\"/blog/\">\n",
      "                                Blog 📑\n",
      "                            </a>\n",
      "</li>\n",
      "<li class=\"nav-item\">\n",
      "<a class=\"nav-link\" href=\"https://liberapay.com/devtomanager/donate\" target=\"_blank\">\n",
      "                                Support us! 🙏\n",
      "                            </a>\n",
      "</li>\n",
      "<li class=\"nav-item dropdown\">\n",
      "<a aria-expanded=\"false\" aria-haspopup=\"true\" class=\"nav-link dropdown-toggle\" data-toggle=\"dropdown\" href=\"#\" role=\"button\">\n",
      "                                More\n",
      "                            </a>\n",
      "<div class=\"dropdown-menu dropdown-menu-right\">\n",
      "<a class=\"dropdown-item\" href=\"/about/\">\n",
      "                                    About\n",
      "                                </a>\n",
      "<a class=\"dropdown-item\" href=\"mailto:hello@devtomanager.com?subject=Hello!\">\n",
      "                                    Contact\n",
      "                                </a>\n",
      "<a class=\"dropdown-item\" href=\"/impressum/\">\n",
      "                                    Impressum\n",
      "                                </a>\n",
      "</div>\n",
      "</li>\n",
      "</ul>\n",
      "</div>\n",
      "</nav>\n",
      "</div>\n",
      "</div>\n",
      "</div>\n",
      "<div class=\"container\">\n",
      "<div class=\"row mb-3\">\n",
      "<div class=\"col-sm-12 col-lg-8 offset-lg-2\">\n",
      "<div class=\"row mt-5\">\n",
      "<div class=\"col\">\n",
      "<p class=\"text-right\">\n",
      "<a class=\"text-reset font-weight-bold\" href=\"https://devtomanager.typeform.com/to/uHf6jo\" target=\"_blank\">\n",
      "        Submit your interview\n",
      "        <i class=\"icon-add-circle-outline mr-1\"></i>\n",
      "</a>\n",
      "</p>\n",
      "</div>\n",
      "</div>\n",
      "<div class=\"row mt-3\">\n",
      "<div class=\"col\">\n",
      "<h1 class=\"text-center\">Interviews with Software Managers</h1>\n",
      "<h4 class=\"text-center\">About transitioning from development to management</h4>\n",
      "</div>\n",
      "</div>\n",
      "<div class=\"row mt-5\">\n",
      "<div class=\"col text-center\">\n",
      "<span class=\"mr-2\">\n",
      "<a class=\"text-reset\" href=\"/interviews/tag/coaching/\">\n",
      "        #coaching\n",
      "    </a>\n",
      "</span>\n",
      "<span class=\"mr-2\">\n",
      "<a class=\"text-reset\" href=\"/interviews/tag/frontend/\">\n",
      "        #frontend\n",
      "    </a>\n",
      "</span>\n",
      "<span class=\"mr-2\">\n",
      "<a class=\"text-reset\" href=\"/interviews/tag/product/\">\n",
      "        #product\n",
      "    </a>\n",
      "</span>\n",
      "<span class=\"mr-2\">\n",
      "<a class=\"text-reset\" href=\"/interviews/tag/self-taught/\">\n",
      "        #self-taught\n",
      "    </a>\n",
      "</span>\n",
      "<span class=\"mr-2\">\n",
      "<a class=\"text-reset\" href=\"/interviews/tag/startup/\">\n",
      "        #startup\n",
      "    </a>\n",
      "</span>\n",
      "<span class=\"mr-2\">\n",
      "<a class=\"text-reset\" href=\"/interviews/tag/web/\">\n",
      "        #web\n",
      "    </a>\n",
      "</span>\n",
      "</div>\n",
      "</div>\n",
      "<div class=\"row mt-5\">\n",
      "<div class=\"col\">\n",
      "<div class=\"card bg-light border-0\">\n",
      "<div class=\"row no-gutters\">\n",
      "<div class=\"col-md-4 text-center\">\n",
      "<a href=\"/interviews/aviv-ben-yosef/\">\n",
      "<figure class=\"figure\">\n",
      "<img alt=\"Aviv Ben-Yosef, Tech Executive Consultant\" class=\"figure-img img-fluid img-thumbnail rounded-circle\" height=\"200\" src=\"/static/images/interviews/aviv-ben-yosef.png\" width=\"200\"/>\n",
      "</figure>\n",
      "</a>\n",
      "</div>\n",
      "<div class=\"col-md-8\">\n",
      "<div class=\"card-body\">\n",
      "<h5 class=\"card-title\">\n",
      "<a class=\"text-reset\" href=\"/interviews/aviv-ben-yosef/\">\n",
      "                        Aviv Ben-Yosef, Tech Executive Consultant\n",
      "                    </a>\n",
      "</h5>\n",
      "<p class=\"card-text\">\n",
      "                “I want to set up managers to succeed, no matter how much background they’ve already got.”\n",
      "                </p>\n",
      "<p class=\"card-text\">\n",
      "                    August 16, 2021\n",
      "                    ·\n",
      "                    \n",
      "                    <strong class=\"mr-2\">\n",
      "<a class=\"text-reset\" href=\"/interviews/tag/coaching/\">\n",
      "                            #coaching\n",
      "                        </a>\n",
      "</strong>\n",
      "<strong class=\"mr-2\">\n",
      "<a class=\"text-reset\" href=\"/interviews/tag/consulting/\">\n",
      "                            #consulting\n",
      "                        </a>\n",
      "</strong>\n",
      "</p>\n",
      "</div>\n",
      "</div>\n",
      "</div>\n",
      "</div>\n",
      "</div>\n",
      "</div>\n",
      "<div class=\"row mt-5\">\n",
      "<div class=\"col\">\n",
      "<div class=\"card bg-light border-0\">\n",
      "<div class=\"row no-gutters\">\n",
      "<div class=\"col-md-4 text-center\">\n",
      "<a href=\"/interviews/anand-safi/\">\n",
      "<figure class=\"figure\">\n",
      "<img alt=\"Anand Safi, Engineering Manager at Mark43\" class=\"figure-img img-fluid img-thumbnail rounded-circle\" height=\"200\" src=\"/static/images/interviews/anand-safi.png\" width=\"200\"/>\n",
      "</figure>\n",
      "</a>\n",
      "</div>\n",
      "<div class=\"col-md-8\">\n",
      "<div class=\"card-body\">\n",
      "<h5 class=\"card-title\">\n",
      "<a class=\"text-reset\" href=\"/interviews/anand-safi/\">\n",
      "                        Anand Safi, Engineering Manager at Mark43\n",
      "                    </a>\n",
      "</h5>\n",
      "<p class=\"card-text\">\n",
      "                “I very well understand where my interests lie, which is being an enabler first and then a creator rather than being a creator/ maker 100%.”\n",
      "                </p>\n",
      "<p class=\"card-text\">\n",
      "                    July 19, 2021\n",
      "                    ·\n",
      "                    \n",
      "                    <strong class=\"mr-2\">\n",
      "<a class=\"text-reset\" href=\"/interviews/tag/coaching/\">\n",
      "                            #coaching\n",
      "                        </a>\n",
      "</strong>\n",
      "<strong class=\"mr-2\">\n",
      "<a class=\"text-reset\" href=\"/interviews/tag/frontend/\">\n",
      "                            #frontend\n",
      "                        </a>\n",
      "</strong>\n",
      "<strong class=\"mr-2\">\n",
      "<a class=\"text-reset\" href=\"/interviews/tag/full-stack/\">\n",
      "                            #full-stack\n",
      "                        </a>\n",
      "</strong>\n",
      "<strong class=\"mr-2\">\n",
      "<a class=\"text-reset\" href=\"/interviews/tag/public-safety/\">\n",
      "                            #public-safety\n",
      "                        </a>\n",
      "</strong>\n",
      "</p>\n",
      "</div>\n",
      "</div>\n",
      "</div>\n",
      "</div>\n",
      "</div>\n",
      "</div>\n",
      "<div class=\"row mt-5\">\n",
      "<div class=\"col\">\n",
      "<div class=\"card bg-light border-0\">\n",
      "<div class=\"row no-gutters\">\n",
      "<div class=\"col-md-4 text-center\">\n",
      "<a href=\"/interviews/shawn-axsom/\">\n",
      "<figure class=\"figure\">\n",
      "<img alt=\"Shawn Axsom, Senior Engineering Manager at Docker\" class=\"figure-img img-fluid img-thumbnail rounded-circle\" height=\"200\" src=\"/static/images/interviews/shawn-axsom.png\" width=\"200\"/>\n",
      "</figure>\n",
      "</a>\n",
      "</div>\n",
      "<div class=\"col-md-8\">\n",
      "<div class=\"card-body\">\n",
      "<h5 class=\"card-title\">\n",
      "<a class=\"text-reset\" href=\"/interviews/shawn-axsom/\">\n",
      "                        Shawn Axsom, Senior Engineering Manager at Docker\n",
      "                    </a>\n",
      "</h5>\n",
      "<p class=\"card-text\">\n",
      "                “Your focus (and challenges) grows from your direct reports, to teams, to departments, executives, and then external customers and partnerships.”\n",
      "                </p>\n",
      "<p class=\"card-text\">\n",
      "                    July 05, 2021\n",
      "                    ·\n",
      "                    \n",
      "                    <strong class=\"mr-2\">\n",
      "<a class=\"text-reset\" href=\"/interviews/tag/backend/\">\n",
      "                            #backend\n",
      "                        </a>\n",
      "</strong>\n",
      "<strong class=\"mr-2\">\n",
      "<a class=\"text-reset\" href=\"/interviews/tag/coaching/\">\n",
      "                            #coaching\n",
      "                        </a>\n",
      "</strong>\n",
      "<strong class=\"mr-2\">\n",
      "<a class=\"text-reset\" href=\"/interviews/tag/information-systems/\">\n",
      "                            #information-systems\n",
      "                        </a>\n",
      "</strong>\n",
      "<strong class=\"mr-2\">\n",
      "<a class=\"text-reset\" href=\"/interviews/tag/web/\">\n",
      "                            #web\n",
      "                        </a>\n",
      "</strong>\n",
      "</p>\n",
      "</div>\n",
      "</div>\n",
      "</div>\n",
      "</div>\n",
      "</div>\n",
      "</div>\n",
      "<div class=\"row mt-5\">\n",
      "<div class=\"col\">\n",
      "<div class=\"card bg-light border-0\">\n",
      "<div class=\"row no-gutters\">\n",
      "<div class=\"col-md-4 text-center\">\n",
      "<a href=\"/interviews/kevin-doyle/\">\n",
      "<figure class=\"figure\">\n",
      "<img alt=\"Kevin Doyle, CTO at patientMpower\" class=\"figure-img img-fluid img-thumbnail rounded-circle\" height=\"200\" src=\"/static/images/interviews/kevin-doyle.png\" width=\"200\"/>\n",
      "</figure>\n",
      "</a>\n",
      "</div>\n",
      "<div class=\"col-md-8\">\n",
      "<div class=\"card-body\">\n",
      "<h5 class=\"card-title\">\n",
      "<a class=\"text-reset\" href=\"/interviews/kevin-doyle/\">\n",
      "                        Kevin Doyle, CTO at patientMpower\n",
      "                    </a>\n",
      "</h5>\n",
      "<p class=\"card-text\">\n",
      "                “If I can provide enough direction to allow people to focus on the jobs they’ll do better than I ever could, everybody wins.”\n",
      "                </p>\n",
      "<p class=\"card-text\">\n",
      "                    June 21, 2021\n",
      "                    ·\n",
      "                    \n",
      "                    <strong class=\"mr-2\">\n",
      "<a class=\"text-reset\" href=\"/interviews/tag/full-stack/\">\n",
      "                            #full-stack\n",
      "                        </a>\n",
      "</strong>\n",
      "<strong class=\"mr-2\">\n",
      "<a class=\"text-reset\" href=\"/interviews/tag/health-tech/\">\n",
      "                            #health-tech\n",
      "                        </a>\n",
      "</strong>\n",
      "</p>\n",
      "</div>\n",
      "</div>\n",
      "</div>\n",
      "</div>\n",
      "</div>\n",
      "</div>\n",
      "<div class=\"row mt-5\">\n",
      "<div class=\"col\">\n",
      "<div class=\"card bg-light border-0\">\n",
      "<div class=\"row no-gutters\">\n",
      "<div class=\"col-md-4 text-center\">\n",
      "<a href=\"/interviews/arnab-sen/\">\n",
      "<figure class=\"figure\">\n",
      "<img alt=\"Arnab Sen, Technical Delivery Manager at AKQA\" class=\"figure-img img-fluid img-thumbnail rounded-circle\" height=\"200\" src=\"/static/images/interviews/arnab-sen.png\" width=\"200\"/>\n",
      "</figure>\n",
      "</a>\n",
      "</div>\n",
      "<div class=\"col-md-8\">\n",
      "<div class=\"card-body\">\n",
      "<h5 class=\"card-title\">\n",
      "<a class=\"text-reset\" href=\"/interviews/arnab-sen/\">\n",
      "                        Arnab Sen, Technical Delivery Manager at AKQA\n",
      "                    </a>\n",
      "</h5>\n",
      "<p class=\"card-text\">\n",
      "                “The switch to management can be highly rewarding and provide a level of independence, authority, and interactivity that a pure software engineering role may not offer.”\n",
      "                </p>\n",
      "<p class=\"card-text\">\n",
      "                    May 10, 2021\n",
      "                    ·\n",
      "                    \n",
      "                    <strong class=\"mr-2\">\n",
      "<a class=\"text-reset\" href=\"/interviews/tag/consulting/\">\n",
      "                            #consulting\n",
      "                        </a>\n",
      "</strong>\n",
      "<strong class=\"mr-2\">\n",
      "<a class=\"text-reset\" href=\"/interviews/tag/digital-marketing/\">\n",
      "                            #digital-marketing\n",
      "                        </a>\n",
      "</strong>\n",
      "<strong class=\"mr-2\">\n",
      "<a class=\"text-reset\" href=\"/interviews/tag/e-commerce/\">\n",
      "                            #e-commerce\n",
      "                        </a>\n",
      "</strong>\n",
      "<strong class=\"mr-2\">\n",
      "<a class=\"text-reset\" href=\"/interviews/tag/product/\">\n",
      "                            #product\n",
      "                        </a>\n",
      "</strong>\n",
      "</p>\n",
      "</div>\n",
      "</div>\n",
      "</div>\n",
      "</div>\n",
      "</div>\n",
      "</div>\n",
      "<div class=\"row mt-5\">\n",
      "<div class=\"col text-left\">\n",
      "</div>\n",
      "<div class=\"col text-right\">\n",
      "<a class=\"text-reset font-weight-bold\" href=\"/interviews/page/2/\">\n",
      "            Older\n",
      "            <i class=\"icon-arrow-forward-circle-outline\"></i>\n",
      "</a>\n",
      "</div>\n",
      "</div>\n",
      "<div class=\"row mt-5\">\n",
      "<div class=\"col\">\n",
      "<div class=\"row text-center\">\n",
      "<div class=\"container\">\n",
      "<div class=\"row\">\n",
      "<div class=\"col\">\n",
      "                Join <mark>thousands</mark> of other subscribers receiving updates\n",
      "                <mark>every 2 weeks</mark>!\n",
      "            </div>\n",
      "</div>\n",
      "<div class=\"row\">\n",
      "<div class=\"col-6 offset-3\">\n",
      "<div class=\"emailoctopus-form-wrapper emailoctopus-form-default null\">\n",
      "<form action=\"https://emailoctopus.com/lists/f17f7f51-575e-11eb-a3d0-06b4694bee2a/members/embedded/1.3s/add\" class=\"emailoctopus-form form\" data-message-bot-submission-error=\"This doesn't look like a human submission.\" data-message-consent-required=\"Please check the checkbox to indicate your consent.\" data-message-invalid-email-address=\"Your email address looks incorrect, please try again.\" data-message-invalid-parameters-error=\"This form has missing or invalid fields.\" data-message-missing-email-address=\"Your email address is required.\" data-message-success=\"Thanks for subscribing!\" data-message-unknown-error=\"Sorry, an unknown error has occurred. Please try again later.\" data-sitekey=\"6LdYsmsUAAAAAPXVTt-ovRsPIJ_IVhvYBBhGvRV6\" method=\"post\">\n",
      "<p class=\"emailoctopus-success-message\"></p>\n",
      "<p class=\"emailoctopus-error-message\"></p>\n",
      "<input name=\"successRedirectUrl\" type=\"hidden\" value=\"https://devtomanager.com/thank-you/\"/>\n",
      "<div class=\"input-group mb-2\">\n",
      "<div class=\"input-group-prepend\">\n",
      "<div class=\"input-group-text\">\n",
      "<i class=\"icon-mail\"></i>\n",
      "</div>\n",
      "</div>\n",
      "<input class=\"form-control\" id=\"field_0\" name=\"field_0\" placeholder=\"email@example.com\" required=\"\" type=\"email\"/>\n",
      "<div class=\"input-group-append\">\n",
      "<button class=\"btn btn btn-dark\" type=\"submit\">\n",
      "                                    Join!\n",
      "                                </button>\n",
      "</div>\n",
      "</div>\n",
      "<div class=\"emailoctopus-form-row-consent custom-control custom-switch\">\n",
      "<input class=\"custom-control-input\" id=\"consent\" name=\"consent\" required=\"\" type=\"checkbox\"/>\n",
      "<label class=\"custom-control-label\" for=\"consent\">\n",
      "                                Yes, sign me up!\n",
      "                            </label>\n",
      "</div>\n",
      "<div aria-hidden=\"true\" class=\"emailoctopus-form-row-hp d-none\">\n",
      "<input autocomplete=\"nope\" name=\"hpc4b27b6e-eb38-11e9-be00-06b4694bee2a\" tabindex=\"-1\" type=\"text\"/>\n",
      "</div>\n",
      "</form>\n",
      "</div>\n",
      "</div>\n",
      "</div>\n",
      "</div>\n",
      "</div>\n",
      "</div>\n",
      "</div>\n",
      "</div>\n",
      "</div>\n",
      "</div>\n",
      "<div class=\"container border-top\">\n",
      "<div class=\"row mt-3 mb-3\">\n",
      "<div class=\"col\">\n",
      "            © Developer to Manager 2018 - 2021\n",
      "\n",
      "            <a class=\"btn\" href=\"https://twitter.com/devtomanager\" target=\"_blank\">\n",
      "<i class=\"icon-logo-twitter\"></i>\n",
      "</a>\n",
      "<a class=\"btn\" href=\"https://www.linkedin.com/company/developer-to-manager\" target=\"_blank\">\n",
      "<i class=\"icon-logo-linkedin\"></i>\n",
      "</a>\n",
      "</div>\n",
      "<div class=\"col text-right\">\n",
      "<span>Crafted with ♥️ in Munich</span>\n",
      "</div>\n",
      "</div>\n",
      "</div>\n",
      "<script async=\"\" data-domain=\"devtomanager.com\" src=\"https://plausible.io/js/plausible.js\">\n",
      "</script>\n",
      "<script async=\"\" src=\"/static/js/app.js\"></script>\n",
      "<script async=\"\" src=\"https://emailoctopus.com/bundles/emailoctopuslist/js/1.6/form-recaptcha.js\"></script>\n",
      "<script async=\"\" src=\"https://emailoctopus.com/bundles/emailoctopuslist/js/1.6/form-embed.js\"></script>\n",
      "</body>\n",
      "</html>\n"
     ]
    }
   ],
   "source": [
    "soup1 = BeautifulSoup(html_good,\"html.parser\")\n",
    "print(soup1)"
   ]
  },
  {
   "cell_type": "code",
   "execution_count": 9,
   "id": "9ef73c42",
   "metadata": {},
   "outputs": [
    {
     "data": {
      "text/plain": [
       "[<title>\n",
       " Interviews with Software Managers | Developer to Manager\n",
       " </title>]"
      ]
     },
     "execution_count": 9,
     "metadata": {},
     "output_type": "execute_result"
    }
   ],
   "source": [
    "soup1.find_all('title')"
   ]
  },
  {
   "cell_type": "code",
   "execution_count": 10,
   "id": "207b21b0",
   "metadata": {},
   "outputs": [
    {
     "data": {
      "text/plain": [
       "'Interviews with Software Managers | Developer to Manager'"
      ]
     },
     "execution_count": 10,
     "metadata": {},
     "output_type": "execute_result"
    }
   ],
   "source": [
    "soup1.title.text.strip()"
   ]
  },
  {
   "cell_type": "code",
   "execution_count": 11,
   "id": "7028795f",
   "metadata": {},
   "outputs": [],
   "source": [
    "con=soup1.find_all('div',class_=\"col-md-8\")"
   ]
  },
  {
   "cell_type": "code",
   "execution_count": 12,
   "id": "4c1731a2",
   "metadata": {},
   "outputs": [],
   "source": [
    "hmm=soup1.find_all('p',class_='card-text')"
   ]
  },
  {
   "cell_type": "code",
   "execution_count": 13,
   "id": "325aeddd",
   "metadata": {},
   "outputs": [
    {
     "data": {
      "text/plain": [
       "['August 16, 2021\\n                    ·\\n                    \\n                    \\n\\n                            #coaching\\n                        \\n\\n\\n\\n                            #consulting',\n",
       " 'July 19, 2021\\n                    ·\\n                    \\n                    \\n\\n                            #coaching\\n                        \\n\\n\\n\\n                            #frontend\\n                        \\n\\n\\n\\n                            #full-stack\\n                        \\n\\n\\n\\n                            #public-safety',\n",
       " 'July 05, 2021\\n                    ·\\n                    \\n                    \\n\\n                            #backend\\n                        \\n\\n\\n\\n                            #coaching\\n                        \\n\\n\\n\\n                            #information-systems\\n                        \\n\\n\\n\\n                            #web',\n",
       " 'June 21, 2021\\n                    ·\\n                    \\n                    \\n\\n                            #full-stack\\n                        \\n\\n\\n\\n                            #health-tech',\n",
       " 'May 10, 2021\\n                    ·\\n                    \\n                    \\n\\n                            #consulting\\n                        \\n\\n\\n\\n                            #digital-marketing\\n                        \\n\\n\\n\\n                            #e-commerce\\n                        \\n\\n\\n\\n                            #product']"
      ]
     },
     "execution_count": 13,
     "metadata": {},
     "output_type": "execute_result"
    }
   ],
   "source": [
    "dummy=[hmm[i].text.strip() for i in range(1,10,2)]\n",
    "dummy"
   ]
  },
  {
   "cell_type": "code",
   "execution_count": 14,
   "id": "2b76a6bd",
   "metadata": {},
   "outputs": [
    {
     "data": {
      "text/plain": [
       "'August 16, 2021'"
      ]
     },
     "execution_count": 14,
     "metadata": {},
     "output_type": "execute_result"
    }
   ],
   "source": [
    "dummy[0].split('\\n')[0]"
   ]
  },
  {
   "cell_type": "code",
   "execution_count": 15,
   "id": "912fdd3a",
   "metadata": {},
   "outputs": [],
   "source": [
    "date=[i.split('\\n')[0] for i in dummy]"
   ]
  },
  {
   "cell_type": "code",
   "execution_count": 16,
   "id": "6a3d6c26",
   "metadata": {},
   "outputs": [
    {
     "data": {
      "text/plain": [
       "['August 16, 2021',\n",
       " 'July 19, 2021',\n",
       " 'July 05, 2021',\n",
       " 'June 21, 2021',\n",
       " 'May 10, 2021']"
      ]
     },
     "execution_count": 16,
     "metadata": {},
     "output_type": "execute_result"
    }
   ],
   "source": [
    "date"
   ]
  },
  {
   "cell_type": "code",
   "execution_count": 17,
   "id": "8cf4758d",
   "metadata": {},
   "outputs": [
    {
     "data": {
      "text/plain": [
       "['#coaching', '#consulting']"
      ]
     },
     "execution_count": 17,
     "metadata": {},
     "output_type": "execute_result"
    }
   ],
   "source": [
    "dummy[0].split()[4:]"
   ]
  },
  {
   "cell_type": "code",
   "execution_count": 18,
   "id": "83951d63",
   "metadata": {},
   "outputs": [
    {
     "data": {
      "text/plain": [
       "[['#coaching', '#consulting'],\n",
       " ['#coaching', '#frontend', '#full-stack', '#public-safety'],\n",
       " ['#backend', '#coaching', '#information-systems', '#web'],\n",
       " ['#full-stack', '#health-tech'],\n",
       " ['#consulting', '#digital-marketing', '#e-commerce', '#product']]"
      ]
     },
     "execution_count": 18,
     "metadata": {},
     "output_type": "execute_result"
    }
   ],
   "source": [
    "tags=[i.split()[4:] for i in dummy]\n",
    "tags"
   ]
  },
  {
   "cell_type": "code",
   "execution_count": 19,
   "id": "d6ed4aa0",
   "metadata": {},
   "outputs": [
    {
     "name": "stdout",
     "output_type": "stream",
     "text": [
      "coaching\n",
      "consulting\n",
      "coaching\n",
      "frontend\n",
      "full-stack\n",
      "public-safety\n",
      "backend\n",
      "coaching\n",
      "information-systems\n",
      "web\n",
      "full-stack\n",
      "health-tech\n",
      "consulting\n",
      "digital-marketing\n",
      "e-commerce\n",
      "product\n"
     ]
    }
   ],
   "source": [
    "for i in tags:\n",
    "    for j in i:\n",
    "        j=j.replace(j,j[1:])\n",
    "        print(j)"
   ]
  },
  {
   "cell_type": "code",
   "execution_count": 20,
   "id": "85f86fb8",
   "metadata": {},
   "outputs": [
    {
     "data": {
      "text/plain": [
       "[['#coaching', '#consulting'],\n",
       " ['#coaching', '#frontend', '#full-stack', '#public-safety'],\n",
       " ['#backend', '#coaching', '#information-systems', '#web'],\n",
       " ['#full-stack', '#health-tech'],\n",
       " ['#consulting', '#digital-marketing', '#e-commerce', '#product']]"
      ]
     },
     "execution_count": 20,
     "metadata": {},
     "output_type": "execute_result"
    }
   ],
   "source": [
    "tags"
   ]
  },
  {
   "cell_type": "code",
   "execution_count": 21,
   "id": "eb494e49",
   "metadata": {},
   "outputs": [
    {
     "data": {
      "text/plain": [
       "10"
      ]
     },
     "execution_count": 21,
     "metadata": {},
     "output_type": "execute_result"
    }
   ],
   "source": [
    "len(hmm)"
   ]
  },
  {
   "cell_type": "code",
   "execution_count": 22,
   "id": "34d5babe",
   "metadata": {},
   "outputs": [
    {
     "data": {
      "text/plain": [
       "[None, None, None, None, None, None, None, None, None, None]"
      ]
     },
     "execution_count": 22,
     "metadata": {},
     "output_type": "execute_result"
    }
   ],
   "source": [
    "date=[ i.find('p') for i in hmm]\n",
    "date"
   ]
  },
  {
   "cell_type": "code",
   "execution_count": 23,
   "id": "7c76d129",
   "metadata": {},
   "outputs": [
    {
     "data": {
      "text/plain": [
       "['Aviv Ben-Yosef', 'Anand Safi', 'Shawn Axsom', 'Kevin Doyle', 'Arnab Sen']"
      ]
     },
     "execution_count": 23,
     "metadata": {},
     "output_type": "execute_result"
    }
   ],
   "source": [
    "name=[i.find('a',class_='text-reset').text.strip().split(',')[0] for i in con]\n",
    "name"
   ]
  },
  {
   "cell_type": "code",
   "execution_count": 24,
   "id": "1aa659b9",
   "metadata": {},
   "outputs": [
    {
     "data": {
      "text/plain": [
       "[' Tech Executive Consultant',\n",
       " ' Engineering Manager at Mark43',\n",
       " ' Senior Engineering Manager at Docker',\n",
       " ' CTO at patientMpower',\n",
       " ' Technical Delivery Manager at AKQA']"
      ]
     },
     "execution_count": 24,
     "metadata": {},
     "output_type": "execute_result"
    }
   ],
   "source": [
    "job=[i.find('a',class_='text-reset').text.strip().split(',')[1] for i in con]\n",
    "job"
   ]
  },
  {
   "cell_type": "code",
   "execution_count": 25,
   "id": "45c9a942",
   "metadata": {},
   "outputs": [
    {
     "data": {
      "text/plain": [
       "['“I want to set up managers to succeed, no matter how much background they’ve already got.”',\n",
       " '“I very well understand where my interests lie, which is being an enabler first and then a creator rather than being a creator/ maker 100%.”',\n",
       " '“Your focus (and challenges) grows from your direct reports, to teams, to departments, executives, and then external customers and partnerships.”',\n",
       " '“If I can provide enough direction to allow people to focus on the jobs they’ll do better than I ever could, everybody wins.”',\n",
       " '“The switch to management can be highly rewarding and provide a level of independence, authority, and interactivity that a pure software engineering role may not offer.”']"
      ]
     },
     "execution_count": 25,
     "metadata": {},
     "output_type": "execute_result"
    }
   ],
   "source": [
    "text=[i.find('p',class_='card-text').text.strip() for i in con]\n",
    "text"
   ]
  },
  {
   "cell_type": "code",
   "execution_count": 26,
   "id": "2ae92f97",
   "metadata": {},
   "outputs": [],
   "source": [
    "    import numpy as np\n",
    "    job=[i.find('a',class_='text-reset').text.strip().split(',')[1] for i in con]\n",
    "    jo=[i.split('at')[0] for i in job] \n",
    "    company=[]\n",
    "    for i in job:\n",
    "        try:\n",
    "            company.append(i.split('at')[1])\n",
    "        except:\n",
    "            company.append(np.nan)"
   ]
  },
  {
   "cell_type": "code",
   "execution_count": 27,
   "id": "7c19f670",
   "metadata": {},
   "outputs": [
    {
     "data": {
      "text/plain": [
       "[nan, ' Mark43', ' Docker', ' p', ' AKQA']"
      ]
     },
     "execution_count": 27,
     "metadata": {},
     "output_type": "execute_result"
    }
   ],
   "source": [
    "company"
   ]
  },
  {
   "cell_type": "code",
   "execution_count": 28,
   "id": "e277ac29",
   "metadata": {},
   "outputs": [],
   "source": [
    "import pandas as pd\n",
    "def Interview(soup1):\n",
    "    name=[i.find('a',class_='text-reset').text.strip().split(',')[0] for i in con]\n",
    "    job=[i.find('a',class_='text-reset').text.strip().split(',')[1] for i in con]\n",
    "    jo=[i.split('at')[0] for i in job]\n",
    "    company=[]\n",
    "    for i in job:\n",
    "        try:\n",
    "            company.append(i.split('at')[1])\n",
    "        except:\n",
    "            company.append(np.nan)\n",
    "    text=[i.find('p',class_='card-text').text.strip() for i in con]\n",
    "    date=[i.split('\\n')[0] for i in dummy]\n",
    "    tags=[i.split()[4:] for i in dummy]\n",
    "    return pd.DataFrame({\"Employee_Name\":name,\"Job_Position\": jo,'Company':company,\"Interview_quote\":text,\"Date\":date,\"Tags\":tags})"
   ]
  },
  {
   "cell_type": "code",
   "execution_count": 30,
   "id": "c4411ee5",
   "metadata": {},
   "outputs": [
    {
     "data": {
      "text/html": [
       "<div>\n",
       "<style scoped>\n",
       "    .dataframe tbody tr th:only-of-type {\n",
       "        vertical-align: middle;\n",
       "    }\n",
       "\n",
       "    .dataframe tbody tr th {\n",
       "        vertical-align: top;\n",
       "    }\n",
       "\n",
       "    .dataframe thead th {\n",
       "        text-align: right;\n",
       "    }\n",
       "</style>\n",
       "<table border=\"1\" class=\"dataframe\">\n",
       "  <thead>\n",
       "    <tr style=\"text-align: right;\">\n",
       "      <th></th>\n",
       "      <th>Employee_Name</th>\n",
       "      <th>Job_Position</th>\n",
       "      <th>Company</th>\n",
       "      <th>Interview_quote</th>\n",
       "      <th>Date</th>\n",
       "      <th>Tags</th>\n",
       "    </tr>\n",
       "  </thead>\n",
       "  <tbody>\n",
       "    <tr>\n",
       "      <th>0</th>\n",
       "      <td>Aviv Ben-Yosef</td>\n",
       "      <td>Tech Executive Consultant</td>\n",
       "      <td>NaN</td>\n",
       "      <td>“I want to set up managers to succeed, no matt...</td>\n",
       "      <td>August 16, 2021</td>\n",
       "      <td>[#coaching, #consulting]</td>\n",
       "    </tr>\n",
       "    <tr>\n",
       "      <th>1</th>\n",
       "      <td>Anand Safi</td>\n",
       "      <td>Engineering Manager</td>\n",
       "      <td>Mark43</td>\n",
       "      <td>“I very well understand where my interests lie...</td>\n",
       "      <td>July 19, 2021</td>\n",
       "      <td>[#coaching, #frontend, #full-stack, #public-sa...</td>\n",
       "    </tr>\n",
       "    <tr>\n",
       "      <th>2</th>\n",
       "      <td>Shawn Axsom</td>\n",
       "      <td>Senior Engineering Manager</td>\n",
       "      <td>Docker</td>\n",
       "      <td>“Your focus (and challenges) grows from your d...</td>\n",
       "      <td>July 05, 2021</td>\n",
       "      <td>[#backend, #coaching, #information-systems, #web]</td>\n",
       "    </tr>\n",
       "    <tr>\n",
       "      <th>3</th>\n",
       "      <td>Kevin Doyle</td>\n",
       "      <td>CTO</td>\n",
       "      <td>p</td>\n",
       "      <td>“If I can provide enough direction to allow pe...</td>\n",
       "      <td>June 21, 2021</td>\n",
       "      <td>[#full-stack, #health-tech]</td>\n",
       "    </tr>\n",
       "    <tr>\n",
       "      <th>4</th>\n",
       "      <td>Arnab Sen</td>\n",
       "      <td>Technical Delivery Manager</td>\n",
       "      <td>AKQA</td>\n",
       "      <td>“The switch to management can be highly reward...</td>\n",
       "      <td>May 10, 2021</td>\n",
       "      <td>[#consulting, #digital-marketing, #e-commerce,...</td>\n",
       "    </tr>\n",
       "  </tbody>\n",
       "</table>\n",
       "</div>"
      ],
      "text/plain": [
       "    Employee_Name                  Job_Position  Company  \\\n",
       "0  Aviv Ben-Yosef     Tech Executive Consultant      NaN   \n",
       "1      Anand Safi          Engineering Manager    Mark43   \n",
       "2     Shawn Axsom   Senior Engineering Manager    Docker   \n",
       "3     Kevin Doyle                          CTO         p   \n",
       "4       Arnab Sen   Technical Delivery Manager      AKQA   \n",
       "\n",
       "                                     Interview_quote             Date  \\\n",
       "0  “I want to set up managers to succeed, no matt...  August 16, 2021   \n",
       "1  “I very well understand where my interests lie...    July 19, 2021   \n",
       "2  “Your focus (and challenges) grows from your d...    July 05, 2021   \n",
       "3  “If I can provide enough direction to allow pe...    June 21, 2021   \n",
       "4  “The switch to management can be highly reward...     May 10, 2021   \n",
       "\n",
       "                                                Tags  \n",
       "0                           [#coaching, #consulting]  \n",
       "1  [#coaching, #frontend, #full-stack, #public-sa...  \n",
       "2  [#backend, #coaching, #information-systems, #web]  \n",
       "3                        [#full-stack, #health-tech]  \n",
       "4  [#consulting, #digital-marketing, #e-commerce,...  "
      ]
     },
     "execution_count": 30,
     "metadata": {},
     "output_type": "execute_result"
    }
   ],
   "source": [
    "df=Interview(soup1)\n",
    "df"
   ]
  },
  {
   "cell_type": "code",
   "execution_count": 31,
   "id": "d3605729",
   "metadata": {},
   "outputs": [
    {
     "data": {
      "text/plain": [
       "(5, 6)"
      ]
     },
     "execution_count": 31,
     "metadata": {},
     "output_type": "execute_result"
    }
   ],
   "source": [
    "df.shape"
   ]
  },
  {
   "cell_type": "code",
   "execution_count": 32,
   "id": "f884b318",
   "metadata": {},
   "outputs": [],
   "source": [
    "df.to_csv(\"Interview.csv\")"
   ]
  },
  {
   "cell_type": "code",
   "execution_count": 33,
   "id": "ef2a0b8b",
   "metadata": {},
   "outputs": [
    {
     "data": {
      "text/html": [
       "<div>\n",
       "<style scoped>\n",
       "    .dataframe tbody tr th:only-of-type {\n",
       "        vertical-align: middle;\n",
       "    }\n",
       "\n",
       "    .dataframe tbody tr th {\n",
       "        vertical-align: top;\n",
       "    }\n",
       "\n",
       "    .dataframe thead th {\n",
       "        text-align: right;\n",
       "    }\n",
       "</style>\n",
       "<table border=\"1\" class=\"dataframe\">\n",
       "  <thead>\n",
       "    <tr style=\"text-align: right;\">\n",
       "      <th></th>\n",
       "      <th>Unnamed: 0</th>\n",
       "      <th>Employee_Name</th>\n",
       "      <th>Job_Position</th>\n",
       "      <th>Company</th>\n",
       "      <th>Interview_quote</th>\n",
       "      <th>Date</th>\n",
       "      <th>Tags</th>\n",
       "    </tr>\n",
       "  </thead>\n",
       "  <tbody>\n",
       "    <tr>\n",
       "      <th>0</th>\n",
       "      <td>0</td>\n",
       "      <td>Aviv Ben-Yosef</td>\n",
       "      <td>Tech Executive Consultant</td>\n",
       "      <td>NaN</td>\n",
       "      <td>“I want to set up managers to succeed, no matt...</td>\n",
       "      <td>August 16, 2021</td>\n",
       "      <td>['#coaching', '#consulting']</td>\n",
       "    </tr>\n",
       "    <tr>\n",
       "      <th>1</th>\n",
       "      <td>1</td>\n",
       "      <td>Anand Safi</td>\n",
       "      <td>Engineering Manager</td>\n",
       "      <td>Mark43</td>\n",
       "      <td>“I very well understand where my interests lie...</td>\n",
       "      <td>July 19, 2021</td>\n",
       "      <td>['#coaching', '#frontend', '#full-stack', '#pu...</td>\n",
       "    </tr>\n",
       "    <tr>\n",
       "      <th>2</th>\n",
       "      <td>2</td>\n",
       "      <td>Shawn Axsom</td>\n",
       "      <td>Senior Engineering Manager</td>\n",
       "      <td>Docker</td>\n",
       "      <td>“Your focus (and challenges) grows from your d...</td>\n",
       "      <td>July 05, 2021</td>\n",
       "      <td>['#backend', '#coaching', '#information-system...</td>\n",
       "    </tr>\n",
       "    <tr>\n",
       "      <th>3</th>\n",
       "      <td>3</td>\n",
       "      <td>Kevin Doyle</td>\n",
       "      <td>CTO</td>\n",
       "      <td>p</td>\n",
       "      <td>“If I can provide enough direction to allow pe...</td>\n",
       "      <td>June 21, 2021</td>\n",
       "      <td>['#full-stack', '#health-tech']</td>\n",
       "    </tr>\n",
       "    <tr>\n",
       "      <th>4</th>\n",
       "      <td>4</td>\n",
       "      <td>Arnab Sen</td>\n",
       "      <td>Technical Delivery Manager</td>\n",
       "      <td>AKQA</td>\n",
       "      <td>“The switch to management can be highly reward...</td>\n",
       "      <td>May 10, 2021</td>\n",
       "      <td>['#consulting', '#digital-marketing', '#e-comm...</td>\n",
       "    </tr>\n",
       "  </tbody>\n",
       "</table>\n",
       "</div>"
      ],
      "text/plain": [
       "   Unnamed: 0   Employee_Name                  Job_Position  Company  \\\n",
       "0           0  Aviv Ben-Yosef     Tech Executive Consultant      NaN   \n",
       "1           1      Anand Safi          Engineering Manager    Mark43   \n",
       "2           2     Shawn Axsom   Senior Engineering Manager    Docker   \n",
       "3           3     Kevin Doyle                          CTO         p   \n",
       "4           4       Arnab Sen   Technical Delivery Manager      AKQA   \n",
       "\n",
       "                                     Interview_quote             Date  \\\n",
       "0  “I want to set up managers to succeed, no matt...  August 16, 2021   \n",
       "1  “I very well understand where my interests lie...    July 19, 2021   \n",
       "2  “Your focus (and challenges) grows from your d...    July 05, 2021   \n",
       "3  “If I can provide enough direction to allow pe...    June 21, 2021   \n",
       "4  “The switch to management can be highly reward...     May 10, 2021   \n",
       "\n",
       "                                                Tags  \n",
       "0                       ['#coaching', '#consulting']  \n",
       "1  ['#coaching', '#frontend', '#full-stack', '#pu...  \n",
       "2  ['#backend', '#coaching', '#information-system...  \n",
       "3                    ['#full-stack', '#health-tech']  \n",
       "4  ['#consulting', '#digital-marketing', '#e-comm...  "
      ]
     },
     "execution_count": 33,
     "metadata": {},
     "output_type": "execute_result"
    }
   ],
   "source": [
    "pd.read_csv(\"Interview.csv\")"
   ]
  },
  {
   "cell_type": "code",
   "execution_count": 34,
   "id": "e37ab0f2",
   "metadata": {},
   "outputs": [],
   "source": [
    "studs= 'https://devtomanager.com/interviews/page/{}/'"
   ]
  },
  {
   "cell_type": "code",
   "execution_count": 35,
   "id": "7011c502",
   "metadata": {},
   "outputs": [
    {
     "data": {
      "text/plain": [
       "'https://devtomanager.com/interviews/page/5/'"
      ]
     },
     "execution_count": 35,
     "metadata": {},
     "output_type": "execute_result"
    }
   ],
   "source": [
    "studs.format(5)"
   ]
  },
  {
   "cell_type": "code",
   "execution_count": 37,
   "id": "097e735a",
   "metadata": {},
   "outputs": [
    {
     "name": "stderr",
     "output_type": "stream",
     "text": [
      "100%|████████████████████████████████████████████████████████████████████████████████████| 5/5 [00:06<00:00,  1.26s/it]\n"
     ]
    }
   ],
   "source": [
    "tables=[]\n",
    "from tqdm import tqdm\n",
    "for i in tqdm(range(1,6)):\n",
    "    url_all = studs.format(i)\n",
    "    html_all = requests.get(url_all).text\n",
    "    soup = BeautifulSoup(html_all,'html.parser')\n",
    "    tables.append(Interview(soup))"
   ]
  },
  {
   "cell_type": "code",
   "execution_count": 38,
   "id": "cc2f2893",
   "metadata": {},
   "outputs": [
    {
     "data": {
      "text/plain": [
       "[    Employee_Name                  Job_Position  Company  \\\n",
       " 0  Aviv Ben-Yosef     Tech Executive Consultant      NaN   \n",
       " 1      Anand Safi          Engineering Manager    Mark43   \n",
       " 2     Shawn Axsom   Senior Engineering Manager    Docker   \n",
       " 3     Kevin Doyle                          CTO         p   \n",
       " 4       Arnab Sen   Technical Delivery Manager      AKQA   \n",
       " \n",
       "                                      Interview_quote             Date  \\\n",
       " 0  “I want to set up managers to succeed, no matt...  August 16, 2021   \n",
       " 1  “I very well understand where my interests lie...    July 19, 2021   \n",
       " 2  “Your focus (and challenges) grows from your d...    July 05, 2021   \n",
       " 3  “If I can provide enough direction to allow pe...    June 21, 2021   \n",
       " 4  “The switch to management can be highly reward...     May 10, 2021   \n",
       " \n",
       "                                                 Tags  \n",
       " 0                           [#coaching, #consulting]  \n",
       " 1  [#coaching, #frontend, #full-stack, #public-sa...  \n",
       " 2  [#backend, #coaching, #information-systems, #web]  \n",
       " 3                        [#full-stack, #health-tech]  \n",
       " 4  [#consulting, #digital-marketing, #e-commerce,...  ,\n",
       "     Employee_Name                  Job_Position  Company  \\\n",
       " 0  Aviv Ben-Yosef     Tech Executive Consultant      NaN   \n",
       " 1      Anand Safi          Engineering Manager    Mark43   \n",
       " 2     Shawn Axsom   Senior Engineering Manager    Docker   \n",
       " 3     Kevin Doyle                          CTO         p   \n",
       " 4       Arnab Sen   Technical Delivery Manager      AKQA   \n",
       " \n",
       "                                      Interview_quote             Date  \\\n",
       " 0  “I want to set up managers to succeed, no matt...  August 16, 2021   \n",
       " 1  “I very well understand where my interests lie...    July 19, 2021   \n",
       " 2  “Your focus (and challenges) grows from your d...    July 05, 2021   \n",
       " 3  “If I can provide enough direction to allow pe...    June 21, 2021   \n",
       " 4  “The switch to management can be highly reward...     May 10, 2021   \n",
       " \n",
       "                                                 Tags  \n",
       " 0                           [#coaching, #consulting]  \n",
       " 1  [#coaching, #frontend, #full-stack, #public-sa...  \n",
       " 2  [#backend, #coaching, #information-systems, #web]  \n",
       " 3                        [#full-stack, #health-tech]  \n",
       " 4  [#consulting, #digital-marketing, #e-commerce,...  ,\n",
       "     Employee_Name                  Job_Position  Company  \\\n",
       " 0  Aviv Ben-Yosef     Tech Executive Consultant      NaN   \n",
       " 1      Anand Safi          Engineering Manager    Mark43   \n",
       " 2     Shawn Axsom   Senior Engineering Manager    Docker   \n",
       " 3     Kevin Doyle                          CTO         p   \n",
       " 4       Arnab Sen   Technical Delivery Manager      AKQA   \n",
       " \n",
       "                                      Interview_quote             Date  \\\n",
       " 0  “I want to set up managers to succeed, no matt...  August 16, 2021   \n",
       " 1  “I very well understand where my interests lie...    July 19, 2021   \n",
       " 2  “Your focus (and challenges) grows from your d...    July 05, 2021   \n",
       " 3  “If I can provide enough direction to allow pe...    June 21, 2021   \n",
       " 4  “The switch to management can be highly reward...     May 10, 2021   \n",
       " \n",
       "                                                 Tags  \n",
       " 0                           [#coaching, #consulting]  \n",
       " 1  [#coaching, #frontend, #full-stack, #public-sa...  \n",
       " 2  [#backend, #coaching, #information-systems, #web]  \n",
       " 3                        [#full-stack, #health-tech]  \n",
       " 4  [#consulting, #digital-marketing, #e-commerce,...  ,\n",
       "     Employee_Name                  Job_Position  Company  \\\n",
       " 0  Aviv Ben-Yosef     Tech Executive Consultant      NaN   \n",
       " 1      Anand Safi          Engineering Manager    Mark43   \n",
       " 2     Shawn Axsom   Senior Engineering Manager    Docker   \n",
       " 3     Kevin Doyle                          CTO         p   \n",
       " 4       Arnab Sen   Technical Delivery Manager      AKQA   \n",
       " \n",
       "                                      Interview_quote             Date  \\\n",
       " 0  “I want to set up managers to succeed, no matt...  August 16, 2021   \n",
       " 1  “I very well understand where my interests lie...    July 19, 2021   \n",
       " 2  “Your focus (and challenges) grows from your d...    July 05, 2021   \n",
       " 3  “If I can provide enough direction to allow pe...    June 21, 2021   \n",
       " 4  “The switch to management can be highly reward...     May 10, 2021   \n",
       " \n",
       "                                                 Tags  \n",
       " 0                           [#coaching, #consulting]  \n",
       " 1  [#coaching, #frontend, #full-stack, #public-sa...  \n",
       " 2  [#backend, #coaching, #information-systems, #web]  \n",
       " 3                        [#full-stack, #health-tech]  \n",
       " 4  [#consulting, #digital-marketing, #e-commerce,...  ,\n",
       "     Employee_Name                  Job_Position  Company  \\\n",
       " 0  Aviv Ben-Yosef     Tech Executive Consultant      NaN   \n",
       " 1      Anand Safi          Engineering Manager    Mark43   \n",
       " 2     Shawn Axsom   Senior Engineering Manager    Docker   \n",
       " 3     Kevin Doyle                          CTO         p   \n",
       " 4       Arnab Sen   Technical Delivery Manager      AKQA   \n",
       " \n",
       "                                      Interview_quote             Date  \\\n",
       " 0  “I want to set up managers to succeed, no matt...  August 16, 2021   \n",
       " 1  “I very well understand where my interests lie...    July 19, 2021   \n",
       " 2  “Your focus (and challenges) grows from your d...    July 05, 2021   \n",
       " 3  “If I can provide enough direction to allow pe...    June 21, 2021   \n",
       " 4  “The switch to management can be highly reward...     May 10, 2021   \n",
       " \n",
       "                                                 Tags  \n",
       " 0                           [#coaching, #consulting]  \n",
       " 1  [#coaching, #frontend, #full-stack, #public-sa...  \n",
       " 2  [#backend, #coaching, #information-systems, #web]  \n",
       " 3                        [#full-stack, #health-tech]  \n",
       " 4  [#consulting, #digital-marketing, #e-commerce,...  ]"
      ]
     },
     "execution_count": 38,
     "metadata": {},
     "output_type": "execute_result"
    }
   ],
   "source": [
    "tables"
   ]
  },
  {
   "cell_type": "code",
   "execution_count": 39,
   "id": "36a453f4",
   "metadata": {},
   "outputs": [],
   "source": [
    "data=pd.concat(tables,axis=0)"
   ]
  },
  {
   "cell_type": "code",
   "execution_count": 40,
   "id": "20f2a601",
   "metadata": {},
   "outputs": [
    {
     "data": {
      "text/html": [
       "<div>\n",
       "<style scoped>\n",
       "    .dataframe tbody tr th:only-of-type {\n",
       "        vertical-align: middle;\n",
       "    }\n",
       "\n",
       "    .dataframe tbody tr th {\n",
       "        vertical-align: top;\n",
       "    }\n",
       "\n",
       "    .dataframe thead th {\n",
       "        text-align: right;\n",
       "    }\n",
       "</style>\n",
       "<table border=\"1\" class=\"dataframe\">\n",
       "  <thead>\n",
       "    <tr style=\"text-align: right;\">\n",
       "      <th></th>\n",
       "      <th>Employee_Name</th>\n",
       "      <th>Job_Position</th>\n",
       "      <th>Company</th>\n",
       "      <th>Interview_quote</th>\n",
       "      <th>Date</th>\n",
       "      <th>Tags</th>\n",
       "    </tr>\n",
       "  </thead>\n",
       "  <tbody>\n",
       "    <tr>\n",
       "      <th>0</th>\n",
       "      <td>Aviv Ben-Yosef</td>\n",
       "      <td>Tech Executive Consultant</td>\n",
       "      <td>NaN</td>\n",
       "      <td>“I want to set up managers to succeed, no matt...</td>\n",
       "      <td>August 16, 2021</td>\n",
       "      <td>[#coaching, #consulting]</td>\n",
       "    </tr>\n",
       "    <tr>\n",
       "      <th>1</th>\n",
       "      <td>Anand Safi</td>\n",
       "      <td>Engineering Manager</td>\n",
       "      <td>Mark43</td>\n",
       "      <td>“I very well understand where my interests lie...</td>\n",
       "      <td>July 19, 2021</td>\n",
       "      <td>[#coaching, #frontend, #full-stack, #public-sa...</td>\n",
       "    </tr>\n",
       "    <tr>\n",
       "      <th>2</th>\n",
       "      <td>Shawn Axsom</td>\n",
       "      <td>Senior Engineering Manager</td>\n",
       "      <td>Docker</td>\n",
       "      <td>“Your focus (and challenges) grows from your d...</td>\n",
       "      <td>July 05, 2021</td>\n",
       "      <td>[#backend, #coaching, #information-systems, #web]</td>\n",
       "    </tr>\n",
       "    <tr>\n",
       "      <th>3</th>\n",
       "      <td>Kevin Doyle</td>\n",
       "      <td>CTO</td>\n",
       "      <td>p</td>\n",
       "      <td>“If I can provide enough direction to allow pe...</td>\n",
       "      <td>June 21, 2021</td>\n",
       "      <td>[#full-stack, #health-tech]</td>\n",
       "    </tr>\n",
       "    <tr>\n",
       "      <th>4</th>\n",
       "      <td>Arnab Sen</td>\n",
       "      <td>Technical Delivery Manager</td>\n",
       "      <td>AKQA</td>\n",
       "      <td>“The switch to management can be highly reward...</td>\n",
       "      <td>May 10, 2021</td>\n",
       "      <td>[#consulting, #digital-marketing, #e-commerce,...</td>\n",
       "    </tr>\n",
       "  </tbody>\n",
       "</table>\n",
       "</div>"
      ],
      "text/plain": [
       "    Employee_Name                  Job_Position  Company  \\\n",
       "0  Aviv Ben-Yosef     Tech Executive Consultant      NaN   \n",
       "1      Anand Safi          Engineering Manager    Mark43   \n",
       "2     Shawn Axsom   Senior Engineering Manager    Docker   \n",
       "3     Kevin Doyle                          CTO         p   \n",
       "4       Arnab Sen   Technical Delivery Manager      AKQA   \n",
       "\n",
       "                                     Interview_quote             Date  \\\n",
       "0  “I want to set up managers to succeed, no matt...  August 16, 2021   \n",
       "1  “I very well understand where my interests lie...    July 19, 2021   \n",
       "2  “Your focus (and challenges) grows from your d...    July 05, 2021   \n",
       "3  “If I can provide enough direction to allow pe...    June 21, 2021   \n",
       "4  “The switch to management can be highly reward...     May 10, 2021   \n",
       "\n",
       "                                                Tags  \n",
       "0                           [#coaching, #consulting]  \n",
       "1  [#coaching, #frontend, #full-stack, #public-sa...  \n",
       "2  [#backend, #coaching, #information-systems, #web]  \n",
       "3                        [#full-stack, #health-tech]  \n",
       "4  [#consulting, #digital-marketing, #e-commerce,...  "
      ]
     },
     "execution_count": 40,
     "metadata": {},
     "output_type": "execute_result"
    }
   ],
   "source": [
    "data.head()"
   ]
  },
  {
   "cell_type": "code",
   "execution_count": 41,
   "id": "eda42c27",
   "metadata": {},
   "outputs": [
    {
     "data": {
      "text/plain": [
       "(25, 6)"
      ]
     },
     "execution_count": 41,
     "metadata": {},
     "output_type": "execute_result"
    }
   ],
   "source": [
    "data.shape"
   ]
  },
  {
   "cell_type": "code",
   "execution_count": 53,
   "id": "67f30a96",
   "metadata": {},
   "outputs": [],
   "source": [
    "data['Date']= pd.to_datetime(data['Date'])"
   ]
  },
  {
   "cell_type": "code",
   "execution_count": 54,
   "id": "3f5335c3",
   "metadata": {},
   "outputs": [
    {
     "name": "stdout",
     "output_type": "stream",
     "text": [
      "<class 'pandas.core.frame.DataFrame'>\n",
      "Int64Index: 25 entries, 0 to 4\n",
      "Data columns (total 6 columns):\n",
      " #   Column           Non-Null Count  Dtype         \n",
      "---  ------           --------------  -----         \n",
      " 0   Employee_Name    25 non-null     object        \n",
      " 1   Job_Position     25 non-null     object        \n",
      " 2   Company          20 non-null     object        \n",
      " 3   Interview_quote  25 non-null     object        \n",
      " 4   Date             25 non-null     datetime64[ns]\n",
      " 5   Tags             25 non-null     object        \n",
      "dtypes: datetime64[ns](1), object(5)\n",
      "memory usage: 1.4+ KB\n"
     ]
    }
   ],
   "source": [
    "data.info()"
   ]
  },
  {
   "cell_type": "markdown",
   "id": "8f411ead",
   "metadata": {},
   "source": [
    "# Procedure:\n",
    " To extract data using web scraping with python, you need to follow these basic steps:\n",
    "\n",
    "    --->Find the URL that you want to scrape\n",
    "    --->Inspecting the Page\n",
    "    --->Find the data you want to extract\n",
    "    --->Write the code\n",
    "    --->Run the code and extract the data\n",
    "    --->Store the data in the required format\n",
    "Libraries used for Web Scraping \n",
    "\n",
    "As we know, Python is has various applications and there are different libraries for different purposes. In our further demonstration, we will be using the following libraries:\n",
    "\n",
    "  Selenium:  Selenium is a web testing library. It is used to automate browser activities.\n",
    "  \n",
    "  BeautifulSoup: Beautiful Soup is a Python package for parsing HTML and XML documents. It creates parse trees that is helpful to extract the data easily.\n",
    "  \n",
    " Pandas: Pandas is a library used for data manipulation and analysis. It is used to extract the data and store it in the desired format. "
   ]
  },
  {
   "cell_type": "code",
   "execution_count": null,
   "id": "1a00772a",
   "metadata": {},
   "outputs": [],
   "source": []
  }
 ],
 "metadata": {
  "kernelspec": {
   "display_name": "Python 3",
   "language": "python",
   "name": "python3"
  },
  "language_info": {
   "codemirror_mode": {
    "name": "ipython",
    "version": 3
   },
   "file_extension": ".py",
   "mimetype": "text/x-python",
   "name": "python",
   "nbconvert_exporter": "python",
   "pygments_lexer": "ipython3",
   "version": "3.8.8"
  }
 },
 "nbformat": 4,
 "nbformat_minor": 5
}
